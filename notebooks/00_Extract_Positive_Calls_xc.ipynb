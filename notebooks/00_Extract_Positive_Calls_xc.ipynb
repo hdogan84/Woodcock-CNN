{
 "cells": [
  {
   "cell_type": "code",
   "execution_count": 1,
   "metadata": {},
   "outputs": [],
   "source": [
    "import librosa\n",
    "from skimage import feature\n",
    "import pandas as pd\n",
    "import numpy as np\n",
    "import matplotlib.pyplot as plt\n",
    "from scipy import signal\n",
    "import soundfile as sf"
   ]
  },
  {
   "cell_type": "code",
   "execution_count": 2,
   "metadata": {},
   "outputs": [],
   "source": [
    "import sys\n",
    "from pathlib import Path\n",
    "\n",
    "root_folder = Path().resolve().parent\n",
    "src_path = root_folder / 'src'\n",
    "sys.path.append(str(src_path))\n",
    "\n",
    "from tools import extract_audio\n",
    "        "
   ]
  },
  {
   "cell_type": "code",
   "execution_count": 10,
   "metadata": {},
   "outputs": [],
   "source": [
    "annot_folder = \"../data/annotation_xc/\"\n",
    "audio_folder = \"../data/XC_Scolopax_rusticola_full/\"\n",
    "output_folder=str(root_folder) + '/data/train_data/audio/1/'"
   ]
  },
  {
   "cell_type": "code",
   "execution_count": 11,
   "metadata": {},
   "outputs": [
    {
     "data": {
      "application/javascript": "\n        if (window._pyforest_update_imports_cell) { window._pyforest_update_imports_cell('import sys\\nimport os'); }\n    ",
      "text/plain": [
       "<IPython.core.display.Javascript object>"
      ]
     },
     "metadata": {},
     "output_type": "display_data"
    }
   ],
   "source": [
    "audio_files = os.listdir(audio_folder)"
   ]
  },
  {
   "cell_type": "code",
   "execution_count": 5,
   "metadata": {},
   "outputs": [],
   "source": [
    "annot_df = pd.read_csv(annot_folder+\"eurwoo - Sheet1.csv\", header=None)"
   ]
  },
  {
   "cell_type": "code",
   "execution_count": 6,
   "metadata": {},
   "outputs": [],
   "source": [
    "annot_df = annot_df.fillna('-1')\n",
    "#annot_df"
   ]
  },
  {
   "cell_type": "code",
   "execution_count": 8,
   "metadata": {},
   "outputs": [],
   "source": [
    "length = 3 #three seconds of audio frames"
   ]
  },
  {
   "cell_type": "code",
   "execution_count": 12,
   "metadata": {},
   "outputs": [],
   "source": [
    "for row in annot_df.iterrows():\n",
    "    filename = row[1][1]\n",
    "    calls = row[1][2:].values.astype(float)\n",
    "    begin_times = calls[calls>=0.0] # drop Nan values, which were deliberately set to -1 above\n",
    "    audio_name = \"XC\"+str(filename)+ \" - Eurasian Woodcock - Scolopax rusticola\"\n",
    "    if audio_name+\".wav\" in audio_files:\n",
    "        (sig, rate) = librosa.load(audio_folder+audio_name+\".wav\", sr=None, mono=True)\n",
    "        #print(\"Loaded wav file\")\n",
    "    else: \n",
    "        (sig, rate) = librosa.load(audio_folder+audio_name+\".mp3\", sr=None, mono=True)\n",
    "        #print(\"Loaded mp3 file\")\n",
    "    \n",
    "    extract_audio(sig, rate, begin_times, output_folder,audio_name+\".***\", length)"
   ]
  },
  {
   "cell_type": "code",
   "execution_count": null,
   "metadata": {},
   "outputs": [],
   "source": []
  }
 ],
 "metadata": {
  "kernelspec": {
   "display_name": "Python 3",
   "language": "python",
   "name": "python3"
  },
  "language_info": {
   "codemirror_mode": {
    "name": "ipython",
    "version": 3
   },
   "file_extension": ".py",
   "mimetype": "text/x-python",
   "name": "python",
   "nbconvert_exporter": "python",
   "pygments_lexer": "ipython3",
   "version": "3.9.16"
  },
  "vscode": {
   "interpreter": {
    "hash": "916dbcbb3f70747c44a77c7bcd40155683ae19c65e1c03b4aa3499c5328201f1"
   }
  }
 },
 "nbformat": 4,
 "nbformat_minor": 2
}
