{
 "cells": [
  {
   "cell_type": "code",
   "execution_count": 1,
   "metadata": {},
   "outputs": [],
   "source": [
    "import librosa\n",
    "from skimage import feature\n",
    "import pandas as pd\n",
    "import numpy as np\n",
    "import matplotlib.pyplot as plt\n",
    "from scipy import signal\n",
    "import soundfile as sf"
   ]
  },
  {
   "cell_type": "code",
   "execution_count": 2,
   "metadata": {},
   "outputs": [],
   "source": [
    "def append_audio(sig, rate, begin_times, base_folder, main_wav, length):\n",
    "\n",
    "    begin_times_descending=np.flip(begin_times)\n",
    "\n",
    "    for t_begin in begin_times_descending:\n",
    "        index_begin=int(t_begin)*rate\n",
    "        # Take  segment length of  seconds and remove from audio\n",
    "        index_end=index_begin+length*rate\n",
    "        sig_temp=np.append(sig[:index_begin],sig[index_end:])\n",
    "        sig=sig_temp\n",
    "\n",
    "    filename=base_folder+main_wav[:-4]+'_negative.wav'\n",
    "    #print(filename)\n",
    "    sf.write(filename, sig, rate)\n",
    "        "
   ]
  },
  {
   "cell_type": "code",
   "execution_count": 3,
   "metadata": {},
   "outputs": [],
   "source": [
    "annot_folder = \"../data/annotation_txt/\"\n",
    "wav_folder = \"../data/wav_files/\"\n",
    "output_folder = \"../data/wav_files_negative/\"\n",
    "#output_folder='C:/Users/dgnhk/Woodcock-CNN/data/train_data/0/'"
   ]
  },
  {
   "cell_type": "code",
   "execution_count": 4,
   "metadata": {},
   "outputs": [
    {
     "data": {
      "application/javascript": "\n        if (window._pyforest_update_imports_cell) { window._pyforest_update_imports_cell('import os'); }\n    ",
      "text/plain": [
       "<IPython.core.display.Javascript object>"
      ]
     },
     "metadata": {},
     "output_type": "display_data"
    }
   ],
   "source": [
    "wav_files = os.listdir(wav_folder)"
   ]
  },
  {
   "cell_type": "code",
   "execution_count": 5,
   "metadata": {},
   "outputs": [],
   "source": [
    "length = 3 #exclude 3 secs long positive "
   ]
  },
  {
   "cell_type": "code",
   "execution_count": 6,
   "metadata": {},
   "outputs": [],
   "source": [
    "for wav_f in wav_files:\n",
    "    annot_f = wav_f[:-3] + \"Table.1.selections.txt\"\n",
    "    annot = pd.read_csv(annot_folder+annot_f, sep='\\t')\n",
    "    begin_times = annot.sort_values('Begin Time (s)')['Begin Time (s)'].values\n",
    "    (sig, rate) = librosa.load(wav_folder+wav_f, sr=None, mono=True)\n",
    "    append_audio(sig, rate, begin_times, output_folder,wav_f, length)"
   ]
  },
  {
   "cell_type": "code",
   "execution_count": null,
   "metadata": {},
   "outputs": [],
   "source": []
  }
 ],
 "metadata": {
  "kernelspec": {
   "display_name": "Python 3",
   "language": "python",
   "name": "python3"
  },
  "language_info": {
   "codemirror_mode": {
    "name": "ipython",
    "version": 3
   },
   "file_extension": ".py",
   "mimetype": "text/x-python",
   "name": "python",
   "nbconvert_exporter": "python",
   "pygments_lexer": "ipython3",
   "version": "3.9.16"
  },
  "vscode": {
   "interpreter": {
    "hash": "916dbcbb3f70747c44a77c7bcd40155683ae19c65e1c03b4aa3499c5328201f1"
   }
  }
 },
 "nbformat": 4,
 "nbformat_minor": 2
}
