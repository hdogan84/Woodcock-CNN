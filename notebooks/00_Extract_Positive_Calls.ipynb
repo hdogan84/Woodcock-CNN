{
 "cells": [
  {
   "cell_type": "code",
   "execution_count": 1,
   "metadata": {},
   "outputs": [],
   "source": [
    "import librosa\n",
    "from skimage import feature\n",
    "import pandas as pd\n",
    "import numpy as np\n",
    "import matplotlib.pyplot as plt\n",
    "from scipy import signal\n",
    "import soundfile as sf"
   ]
  },
  {
   "cell_type": "code",
   "execution_count": 2,
   "metadata": {},
   "outputs": [],
   "source": [
    "def extract_audio(sig, rate, begin_times, base_folder, main_wav):\n",
    "\n",
    "    for t_begin in begin_times:\n",
    "        index_begin=int(t_begin)*rate\n",
    "        # Take  segment length of 2 seconds\n",
    "        index_end=index_begin+2*rate\n",
    "        segment=sig[index_begin:index_end]\n",
    "        #print(len(segment))\n",
    "        filename=base_folder+main_wav[:-4]+\"_\"+str(int(index_begin))+'.wav'\n",
    "        #print(filename)\n",
    "        sf.write(filename, segment, 22050)\n",
    "        "
   ]
  },
  {
   "cell_type": "code",
   "execution_count": 9,
   "metadata": {},
   "outputs": [],
   "source": [
    "annot_folder = \"../data/Annotation_Txt/\"\n",
    "wav_folder = \"../data/wav_files/\"\n",
    "output_folder='C:/Users/dgnhk/Woodcock-CNN/data/train_data/audio/1/'"
   ]
  },
  {
   "cell_type": "code",
   "execution_count": 6,
   "metadata": {},
   "outputs": [
    {
     "data": {
      "application/javascript": "\n        if (window._pyforest_update_imports_cell) { window._pyforest_update_imports_cell('import os'); }\n    ",
      "text/plain": [
       "<IPython.core.display.Javascript object>"
      ]
     },
     "metadata": {},
     "output_type": "display_data"
    }
   ],
   "source": [
    "wav_files = os.listdir(wav_folder)"
   ]
  },
  {
   "cell_type": "code",
   "execution_count": 7,
   "metadata": {},
   "outputs": [],
   "source": [
    "soundtype = 2"
   ]
  },
  {
   "cell_type": "code",
   "execution_count": 10,
   "metadata": {},
   "outputs": [],
   "source": [
    "for wav_f in wav_files:\n",
    "    annot_f = wav_f[:-3] + \"Table.1.selections.txt\"\n",
    "    annot = pd.read_csv(annot_folder+annot_f, sep='\\t')\n",
    "    begin_times = annot[annot.Soundtype==soundtype].sort_values('Begin Time (s)')['Begin Time (s)'].values\n",
    "    (sig, rate) = librosa.load(wav_folder+wav_f, sr=22050, mono=True)\n",
    "    extract_audio(sig, rate, begin_times, output_folder,wav_f)"
   ]
  },
  {
   "cell_type": "code",
   "execution_count": null,
   "metadata": {},
   "outputs": [],
   "source": []
  }
 ],
 "metadata": {
  "kernelspec": {
   "display_name": "Python 3",
   "language": "python",
   "name": "python3"
  },
  "language_info": {
   "codemirror_mode": {
    "name": "ipython",
    "version": 3
   },
   "file_extension": ".py",
   "mimetype": "text/x-python",
   "name": "python",
   "nbconvert_exporter": "python",
   "pygments_lexer": "ipython3",
   "version": "3.9.16"
  },
  "vscode": {
   "interpreter": {
    "hash": "916dbcbb3f70747c44a77c7bcd40155683ae19c65e1c03b4aa3499c5328201f1"
   }
  }
 },
 "nbformat": 4,
 "nbformat_minor": 2
}
