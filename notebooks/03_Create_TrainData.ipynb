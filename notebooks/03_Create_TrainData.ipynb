{
 "cells": [
  {
   "cell_type": "code",
   "execution_count": 44,
   "metadata": {},
   "outputs": [],
   "source": [
    "import librosa\n",
    "import pandas as pd\n",
    "import numpy as np\n",
    "import matplotlib.pyplot as plt\n",
    "from scipy import signal\n",
    "import glob\n",
    "import os\n",
    "import cv2"
   ]
  },
  {
   "cell_type": "code",
   "execution_count": 45,
   "metadata": {},
   "outputs": [],
   "source": [
    "import sys\n",
    "from pathlib import Path\n",
    "\n",
    "parent_folder = Path().resolve().parent\n",
    "src_path = parent_folder / 'src'\n",
    "sys.path.append(str(src_path))\n",
    "\n",
    "from tools import audio_to_image"
   ]
  },
  {
   "cell_type": "code",
   "execution_count": 46,
   "metadata": {},
   "outputs": [],
   "source": [
    "# FFT parameters\n",
    "Nfft=1024 # \n",
    "N_overlap=400 # Overlap length in STFT \n",
    "resize_dim = (224,156) #resize tuple for image dimensions"
   ]
  },
  {
   "cell_type": "code",
   "execution_count": 47,
   "metadata": {},
   "outputs": [],
   "source": [
    "import glob"
   ]
  },
  {
   "cell_type": "markdown",
   "metadata": {},
   "source": [
    "Read the first data, to get Spectrogram dimensions"
   ]
  },
  {
   "cell_type": "code",
   "execution_count": 48,
   "metadata": {},
   "outputs": [],
   "source": [
    "source_path = Path('../data/train_data/audio')\n",
    "dest_path = '../data/train_data/spec/'"
   ]
  },
  {
   "cell_type": "code",
   "execution_count": 49,
   "metadata": {},
   "outputs": [
    {
     "name": "stdout",
     "output_type": "stream",
     "text": [
      "..\\data\\train_data\\audio\\0\n"
     ]
    }
   ],
   "source": [
    "subfolder = '0'\n",
    "\n",
    "# Combine the paths\n",
    "full_path = source_path / subfolder"
   ]
  },
  {
   "cell_type": "code",
   "execution_count": 50,
   "metadata": {},
   "outputs": [],
   "source": [
    "wav_files = list(Path(full_path).glob(\"*.wav\"))"
   ]
  },
  {
   "cell_type": "code",
   "execution_count": 53,
   "metadata": {},
   "outputs": [
    {
     "name": "stderr",
     "output_type": "stream",
     "text": [
      "C:\\Users\\dgnhk\\Woodcock-CNN\\src\\tools.py:29: RuntimeWarning: divide by zero encountered in log10\n",
      "  Syy=20*np.log10(Syy/0.00002)\n",
      "C:\\Users\\dgnhk\\Woodcock-CNN\\src\\tools.py:31: RuntimeWarning: invalid value encountered in divide\n",
      "  Syy = Syy / Syy.max() #normalize to [0, 1]\n"
     ]
    }
   ],
   "source": [
    "for audio_path in wav_files:\n",
    "    #audio_path = os.path.join(source_dir,audioFile)\n",
    "    img_path = str(audio_path).replace(\"audio\", \"spec\").replace(\"wav\",\"png\")\n",
    "    \n",
    "    image = audio_to_image(audio_path, Nfft, N_overlap, resize_dim)    \n",
    "    cv2.imwrite(img_path, image)"
   ]
  },
  {
   "cell_type": "code",
   "execution_count": null,
   "metadata": {},
   "outputs": [],
   "source": []
  }
 ],
 "metadata": {
  "kernelspec": {
   "display_name": "Python 3",
   "language": "python",
   "name": "python3"
  },
  "language_info": {
   "codemirror_mode": {
    "name": "ipython",
    "version": 3
   },
   "file_extension": ".py",
   "mimetype": "text/x-python",
   "name": "python",
   "nbconvert_exporter": "python",
   "pygments_lexer": "ipython3",
   "version": "3.10.9"
  },
  "vscode": {
   "interpreter": {
    "hash": "916dbcbb3f70747c44a77c7bcd40155683ae19c65e1c03b4aa3499c5328201f1"
   }
  }
 },
 "nbformat": 4,
 "nbformat_minor": 2
}
