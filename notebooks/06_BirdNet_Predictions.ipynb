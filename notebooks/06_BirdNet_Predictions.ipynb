{
 "cells": [
  {
   "cell_type": "code",
   "execution_count": 18,
   "metadata": {},
   "outputs": [],
   "source": [
    "import librosa\n",
    "from skimage import feature\n",
    "import pandas as pd\n",
    "import numpy as np\n",
    "import matplotlib.pyplot as plt\n",
    "from scipy import signal\n",
    "import soundfile as sf\n",
    "import os\n",
    "from pathlib import Path\n",
    "from sklearn.metrics import average_precision_score\n"
   ]
  },
  {
   "cell_type": "code",
   "execution_count": 4,
   "metadata": {},
   "outputs": [
    {
     "name": "stderr",
     "output_type": "stream",
     "text": [
      "c:\\Users\\dgnhk\\anaconda3\\envs\\birdnet\\lib\\site-packages\\pydub\\utils.py:170: RuntimeWarning: Couldn't find ffmpeg or avconv - defaulting to ffmpeg, but may not work\n",
      "  warn(\"Couldn't find ffmpeg or avconv - defaulting to ffmpeg, but may not work\", RuntimeWarning)\n"
     ]
    },
    {
     "name": "stdout",
     "output_type": "stream",
     "text": [
      "WARNING:tensorflow:From c:\\Users\\dgnhk\\anaconda3\\envs\\birdnet\\lib\\site-packages\\keras\\src\\losses.py:2976: The name tf.losses.sparse_softmax_cross_entropy is deprecated. Please use tf.compat.v1.losses.sparse_softmax_cross_entropy instead.\n",
      "\n",
      "Labels loaded.\n",
      "load model True\n",
      "Model loaded.\n",
      "Labels loaded.\n",
      "load_species_list_model\n",
      "Meta model loaded.\n"
     ]
    }
   ],
   "source": [
    "from birdnetlib import Recording\n",
    "from birdnetlib.analyzer import Analyzer\n",
    "from datetime import datetime\n",
    "\n",
    "# Load and initialize the BirdNET-Analyzer models.\n",
    "analyzer = Analyzer()"
   ]
  },
  {
   "cell_type": "markdown",
   "metadata": {},
   "source": [
    "Predict for positive segments first"
   ]
  },
  {
   "cell_type": "code",
   "execution_count": 5,
   "metadata": {},
   "outputs": [],
   "source": [
    "output_folder='C:/Users/dgnhk/Woodcock-CNN/data/train_data/audio/1/'\n",
    "wav_files = os.listdir(output_folder)"
   ]
  },
  {
   "cell_type": "code",
   "execution_count": 6,
   "metadata": {},
   "outputs": [],
   "source": [
    "predictions = dict.fromkeys(wav_files, 0.0)"
   ]
  },
  {
   "cell_type": "code",
   "execution_count": 24,
   "metadata": {},
   "outputs": [],
   "source": [
    "for file in wav_files:\n",
    "    audio_path = Path(os.path.join(output_folder, file))\n",
    "    recording = Recording(\n",
    "        analyzer,\n",
    "        audio_path,\n",
    "        min_conf=0.0\n",
    "    )\n",
    "    recording.analyze()\n",
    "    for detection in recording.detections:\n",
    "        if detection['scientific_name']=='Scolopax rusticola':\n",
    "            predictions[file] = detection['confidence']"
   ]
  },
  {
   "cell_type": "code",
   "execution_count": 12,
   "metadata": {},
   "outputs": [
    {
     "data": {
      "text/plain": [
       "0.6053339540958405"
      ]
     },
     "execution_count": 12,
     "metadata": {},
     "output_type": "execute_result"
    }
   ],
   "source": [
    "np.median(list(predictions.values()))"
   ]
  },
  {
   "cell_type": "markdown",
   "metadata": {},
   "source": [
    "Predict for negative segments"
   ]
  },
  {
   "cell_type": "code",
   "execution_count": 13,
   "metadata": {},
   "outputs": [],
   "source": [
    "output_folder='C:/Users/dgnhk/Woodcock-CNN/data/train_data/audio/0/'\n",
    "wav_files = os.listdir(output_folder)"
   ]
  },
  {
   "cell_type": "code",
   "execution_count": 14,
   "metadata": {},
   "outputs": [],
   "source": [
    "predictions.update(dict.fromkeys(wav_files, 0.0))"
   ]
  },
  {
   "cell_type": "code",
   "execution_count": 23,
   "metadata": {},
   "outputs": [],
   "source": [
    "for file in wav_files[:3000]:\n",
    "    audio_path = Path(os.path.join(output_folder, file))\n",
    "    recording = Recording(\n",
    "        analyzer,\n",
    "        audio_path,\n",
    "        min_conf=0.0\n",
    "    )\n",
    "    recording.analyze()\n",
    "    for detection in recording.detections:\n",
    "        if detection['scientific_name']=='Scolopax rusticola':\n",
    "            predictions[file] = detection['confidence']"
   ]
  },
  {
   "cell_type": "code",
   "execution_count": 21,
   "metadata": {},
   "outputs": [
    {
     "data": {
      "text/plain": [
       "0.7528120581404734"
      ]
     },
     "execution_count": 21,
     "metadata": {},
     "output_type": "execute_result"
    }
   ],
   "source": [
    "sorted_keys = sorted(predictions.keys())\n",
    "\n",
    "# Step 2: Extract scores and generate true labels\n",
    "y_pred = [predictions[k] for k in sorted_keys]\n",
    "y_true = [0 if \"negative\" in k else 1 for k in sorted_keys]\n",
    "\n",
    "# Step 3: Compute Average Precision\n",
    "ap = average_precision_score(y_true, y_pred)\n",
    "ap"
   ]
  },
  {
   "cell_type": "code",
   "execution_count": 22,
   "metadata": {},
   "outputs": [
    {
     "data": {
      "image/png": "[encoded data removed]",
      "text/plain": [
       "<Figure size 640x480 with 1 Axes>"
      ]
     },
     "metadata": {},
     "output_type": "display_data"
    }
   ],
   "source": [
    "from sklearn.metrics import precision_recall_curve\n",
    "import matplotlib.pyplot as plt\n",
    "\n",
    "# Only for binary classification (adjust for multi-class)\n",
    "precision, recall, _ = precision_recall_curve(y_true, y_pred)\n",
    "\n",
    "plt.plot(recall, precision, marker='.')\n",
    "plt.xlabel('Recall')\n",
    "plt.ylabel('Precision')\n",
    "plt.title('Precision-Recall Curve')\n",
    "plt.show()\n"
   ]
  },
  {
   "cell_type": "code",
   "execution_count": null,
   "metadata": {},
   "outputs": [],
   "source": []
  }
 ],
 "metadata": {
  "kernelspec": {
   "display_name": "Python 3",
   "language": "python",
   "name": "python3"
  },
  "language_info": {
   "codemirror_mode": {
    "name": "ipython",
    "version": 3
   },
   "file_extension": ".py",
   "mimetype": "text/x-python",
   "name": "python",
   "nbconvert_exporter": "python",
   "pygments_lexer": "ipython3",
   "version": "3.10.9"
  },
  "vscode": {
   "interpreter": {
    "hash": "916dbcbb3f70747c44a77c7bcd40155683ae19c65e1c03b4aa3499c5328201f1"
   }
  }
 },
 "nbformat": 4,
 "nbformat_minor": 2
}
