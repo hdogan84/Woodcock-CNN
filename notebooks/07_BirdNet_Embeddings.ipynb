{
 "cells": [
  {
   "cell_type": "code",
   "execution_count": 1,
   "metadata": {},
   "outputs": [],
   "source": [
    "from skimage import feature\n",
    "import pandas as pd\n",
    "import numpy as np\n",
    "import matplotlib.pyplot as plt\n",
    "from scipy import signal\n",
    "import os\n",
    "from pathlib import Path\n",
    "import sys\n",
    "from sklearn.model_selection import train_test_split, cross_val_score\n",
    "from imblearn.over_sampling import SMOTE\n",
    "from imblearn.under_sampling import RandomUnderSampler\n",
    "from sklearn.metrics import accuracy_score, classification_report, average_precision_score\n",
    "from sklearn.metrics import precision_recall_curve\n",
    "\n",
    "from sklearn.svm import SVC\n",
    "from sklearn.tree import DecisionTreeClassifier as DTC\n",
    "from sklearn.ensemble import RandomForestClassifier as RFC\n",
    "from sklearn.neighbors import KNeighborsClassifier as KNN\n",
    "import xgboost as XGB\n"
   ]
  },
  {
   "cell_type": "code",
   "execution_count": 2,
   "metadata": {},
   "outputs": [],
   "source": [
    "parent_folder = Path().resolve().parent\n",
    "src_path = parent_folder / 'src'\n",
    "sys.path.append(str(src_path))\n",
    "\n",
    "from tools import get_embedding_birdnet"
   ]
  },
  {
   "cell_type": "markdown",
   "metadata": {},
   "source": [
    "#env to use: clef"
   ]
  },
  {
   "cell_type": "code",
   "execution_count": 3,
   "metadata": {},
   "outputs": [],
   "source": [
    "root_folder='../data/train_data/embedding/birdnet/'"
   ]
  },
  {
   "cell_type": "code",
   "execution_count": 4,
   "metadata": {},
   "outputs": [],
   "source": [
    "pos_embeddings = get_embedding_birdnet(root_folder, 1)\n",
    "neg_embeddings = get_embedding_birdnet(root_folder, 0)"
   ]
  },
  {
   "cell_type": "code",
   "execution_count": 7,
   "metadata": {},
   "outputs": [],
   "source": [
    "df_pos = pd.DataFrame(data=pos_embeddings)\n",
    "df_pos['target'] = 1\n",
    "\n",
    "df_neg = pd.DataFrame(data=neg_embeddings)\n",
    "df_neg['target'] = 0"
   ]
  },
  {
   "cell_type": "markdown",
   "metadata": {},
   "source": [
    "Perform 5-fold split for the negative data only"
   ]
  },
  {
   "cell_type": "code",
   "execution_count": 8,
   "metadata": {},
   "outputs": [
    {
     "data": {
      "application/javascript": "\n        if (window._pyforest_update_imports_cell) { window._pyforest_update_imports_cell('from sklearn.model_selection import KFold'); }\n    ",
      "text/plain": [
       "<IPython.core.display.Javascript object>"
      ]
     },
     "metadata": {},
     "output_type": "display_data"
    }
   ],
   "source": [
    "kf = KFold(n_splits=5, shuffle=True, random_state=42)\n",
    "\n",
    "# Create a new column to store fold numbers\n",
    "df_neg[\"fold\"] = -1  # Initialize with -1\n",
    "\n",
    "for fold, (train_idx, test_idx) in enumerate(kf.split(df_neg)):\n",
    "    df_neg.loc[test_idx, \"fold\"] = fold  # Assign fold number to test samples"
   ]
  },
  {
   "cell_type": "code",
   "execution_count": 77,
   "metadata": {},
   "outputs": [],
   "source": [
    "fold = 4 # Run the rest of the code for each fold"
   ]
  },
  {
   "cell_type": "code",
   "execution_count": 78,
   "metadata": {},
   "outputs": [],
   "source": [
    "df_neg_fold = df_neg[df_neg.fold==fold]\n",
    "df_neg_fold = df_neg_fold.drop(\"fold\", axis=1)"
   ]
  },
  {
   "cell_type": "code",
   "execution_count": 79,
   "metadata": {},
   "outputs": [],
   "source": [
    "df_combined = pd.concat([df_pos, df_neg_fold], ignore_index=True, axis=0)\n",
    "df_combined = df_combined.sample(frac=1, random_state=232)"
   ]
  },
  {
   "cell_type": "code",
   "execution_count": 80,
   "metadata": {},
   "outputs": [],
   "source": [
    "#Generate Test and Train datasets\n",
    "X = df_combined.iloc[:, :-1] #All values except the last column\n",
    "y = df_combined.iloc[:, -1] #All values from the last column\n",
    "\n",
    "#train, test, train_target, test_target = train_test_split(X, y, test_size=0.20, random_state=23)"
   ]
  },
  {
   "cell_type": "markdown",
   "metadata": {},
   "source": [
    "SVM"
   ]
  },
  {
   "cell_type": "code",
   "execution_count": 81,
   "metadata": {},
   "outputs": [
    {
     "data": {
      "application/javascript": "\n        if (window._pyforest_update_imports_cell) { window._pyforest_update_imports_cell('from sklearn.model_selection import cross_val_score\\nfrom sklearn.model_selection import KFold'); }\n    ",
      "text/plain": [
       "<IPython.core.display.Javascript object>"
      ]
     },
     "metadata": {},
     "output_type": "display_data"
    },
    {
     "name": "stdout",
     "output_type": "stream",
     "text": [
      "Mean Accuracy: 0.9980\n"
     ]
    },
    {
     "data": {
      "application/javascript": "\n        if (window._pyforest_update_imports_cell) { window._pyforest_update_imports_cell('from sklearn.model_selection import cross_val_score\\nfrom sklearn.model_selection import KFold'); }\n    ",
      "text/plain": [
       "<IPython.core.display.Javascript object>"
      ]
     },
     "metadata": {},
     "output_type": "display_data"
    },
    {
     "name": "stdout",
     "output_type": "stream",
     "text": [
      "Cross-validation AP: [1. 1. 1. 1. 1.]\n",
      "mAP: 1.0000\n"
     ]
    }
   ],
   "source": [
    "model = SVC(kernel='linear', cache_size=500)\n",
    "\n",
    "accuracies = cross_val_score(model, X, y, cv=5, scoring='accuracy')\n",
    "\n",
    "#print(f\"Cross-validation accuracies: {accuracies}\")\n",
    "print(f\"Mean Accuracy: {accuracies.mean():.4f}\")\n",
    "\n",
    "ap = cross_val_score(model, X, y, cv=5, scoring='average_precision')\n",
    "\n",
    "print(f\"Cross-validation AP: {ap}\")\n",
    "print(f\"mAP: {ap.mean():.4f}\")\n"
   ]
  },
  {
   "cell_type": "markdown",
   "metadata": {},
   "source": [
    "Random Forest"
   ]
  },
  {
   "cell_type": "code",
   "execution_count": 82,
   "metadata": {},
   "outputs": [
    {
     "data": {
      "application/javascript": "\n        if (window._pyforest_update_imports_cell) { window._pyforest_update_imports_cell('from sklearn.model_selection import cross_val_score\\nfrom sklearn.model_selection import KFold'); }\n    ",
      "text/plain": [
       "<IPython.core.display.Javascript object>"
      ]
     },
     "metadata": {},
     "output_type": "display_data"
    },
    {
     "name": "stdout",
     "output_type": "stream",
     "text": [
      "Mean Accuracy: 0.9830\n"
     ]
    },
    {
     "data": {
      "application/javascript": "\n        if (window._pyforest_update_imports_cell) { window._pyforest_update_imports_cell('from sklearn.model_selection import cross_val_score\\nfrom sklearn.model_selection import KFold'); }\n    ",
      "text/plain": [
       "<IPython.core.display.Javascript object>"
      ]
     },
     "metadata": {},
     "output_type": "display_data"
    },
    {
     "name": "stdout",
     "output_type": "stream",
     "text": [
      "Cross-validation AP: [1.         1.         0.99960291 0.99862066 0.99960874]\n",
      "mAP: 0.9996\n"
     ]
    }
   ],
   "source": [
    "model = RFC(n_jobs = -1)\n",
    "accuracies = cross_val_score(model, X, y, cv=5, scoring='accuracy')\n",
    "\n",
    "#print(f\"Cross-validation accuracies: {accuracies}\")\n",
    "print(f\"Mean Accuracy: {accuracies.mean():.4f}\")\n",
    "\n",
    "ap = cross_val_score(model, X, y, cv=5, scoring='average_precision')\n",
    "\n",
    "print(f\"Cross-validation AP: {ap}\")\n",
    "print(f\"mAP: {ap.mean():.4f}\")"
   ]
  },
  {
   "cell_type": "markdown",
   "metadata": {},
   "source": [
    "XGBoost"
   ]
  },
  {
   "cell_type": "code",
   "execution_count": 83,
   "metadata": {},
   "outputs": [
    {
     "data": {
      "application/javascript": "\n        if (window._pyforest_update_imports_cell) { window._pyforest_update_imports_cell('from sklearn.model_selection import cross_val_score\\nfrom sklearn.model_selection import KFold'); }\n    ",
      "text/plain": [
       "<IPython.core.display.Javascript object>"
      ]
     },
     "metadata": {},
     "output_type": "display_data"
    },
    {
     "name": "stdout",
     "output_type": "stream",
     "text": [
      "Mean Accuracy: 0.9810\n"
     ]
    },
    {
     "data": {
      "application/javascript": "\n        if (window._pyforest_update_imports_cell) { window._pyforest_update_imports_cell('from sklearn.model_selection import cross_val_score\\nfrom sklearn.model_selection import KFold'); }\n    ",
      "text/plain": [
       "<IPython.core.display.Javascript object>"
      ]
     },
     "metadata": {},
     "output_type": "display_data"
    },
    {
     "name": "stdout",
     "output_type": "stream",
     "text": [
      "Cross-validation AP: [0.99961636 0.99961538 0.99901965 0.99933396 0.99753346]\n",
      "mAP: 0.9990\n"
     ]
    }
   ],
   "source": [
    "model = XGB.XGBClassifier(objective='binary:logistic')\n",
    "\n",
    "accuracies = cross_val_score(model, X, y, cv=5, scoring='accuracy')\n",
    "\n",
    "#print(f\"Cross-validation accuracies: {accuracies}\")\n",
    "print(f\"Mean Accuracy: {accuracies.mean():.4f}\")\n",
    "\n",
    "ap = cross_val_score(model, X, y, cv=5, scoring='average_precision')\n",
    "\n",
    "print(f\"Cross-validation AP: {ap}\")\n",
    "print(f\"mAP: {ap.mean():.4f}\")"
   ]
  },
  {
   "cell_type": "code",
   "execution_count": 76,
   "metadata": {},
   "outputs": [],
   "source": [
    "#predictions = model.predict(test)\n",
    "#ap = average_precision_score(test_target, predictions)\n",
    "#print(\"Test set average precision:\", ap)\n",
    "\n",
    "#report=classification_report(test_target, predictions, digits=4)\n",
    "#print(report)\n",
    "\n",
    "# Only for binary classification (adjust for multi-class)\n",
    "#precision, recall, thr = precision_recall_curve(test_target, predictions)\n"
   ]
  },
  {
   "cell_type": "code",
   "execution_count": 60,
   "metadata": {},
   "outputs": [],
   "source": [
    "#plt.plot(recall, precision, marker='.')\n",
    "#plt.xlabel('Recall')\n",
    "#plt.ylabel('Precision')\n",
    "#plt.title('Precision-Recall Curve')\n",
    "#plt.show()"
   ]
  },
  {
   "cell_type": "code",
   "execution_count": null,
   "metadata": {},
   "outputs": [],
   "source": []
  },
  {
   "cell_type": "code",
   "execution_count": null,
   "metadata": {},
   "outputs": [],
   "source": []
  }
 ],
 "metadata": {
  "kernelspec": {
   "display_name": "Python 3",
   "language": "python",
   "name": "python3"
  },
  "language_info": {
   "codemirror_mode": {
    "name": "ipython",
    "version": 3
   },
   "file_extension": ".py",
   "mimetype": "text/x-python",
   "name": "python",
   "nbconvert_exporter": "python",
   "pygments_lexer": "ipython3",
   "version": "3.9.16"
  },
  "vscode": {
   "interpreter": {
    "hash": "916dbcbb3f70747c44a77c7bcd40155683ae19c65e1c03b4aa3499c5328201f1"
   }
  }
 },
 "nbformat": 4,
 "nbformat_minor": 2
}
