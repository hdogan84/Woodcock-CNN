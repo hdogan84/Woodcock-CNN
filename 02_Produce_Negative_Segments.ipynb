{
 "cells": [
  {
   "cell_type": "code",
   "execution_count": 1,
   "metadata": {},
   "outputs": [],
   "source": [
    "import librosa\n",
    "from skimage import feature\n",
    "import pandas as pd\n",
    "import numpy as np\n",
    "import matplotlib.pyplot as plt\n",
    "from scipy import signal"
   ]
  },
  {
   "cell_type": "code",
   "execution_count": 2,
   "metadata": {},
   "outputs": [],
   "source": [
    "#(temp_sig, rate) = librosa.load('Scolopax_rusticola_DIG0161_66.wav')\n",
    "(sig, rate) = librosa.load('VP2_negative.wav', sr=22050, mono=True)\n",
    "#(orig_sig, orig_rate) = librosa.load('Scolopax_rusticola_DIG0110_07.wav',sr=None)\n",
    "#temp_sig=librosa.resample(orig_sig,orig_rate,22050)"
   ]
  },
  {
   "cell_type": "code",
   "execution_count": 3,
   "metadata": {},
   "outputs": [],
   "source": [
    "rate=22050"
   ]
  },
  {
   "cell_type": "code",
   "execution_count": 5,
   "metadata": {},
   "outputs": [],
   "source": [
    "# FFT and Filtering parameters\n",
    "band_freq_min=3000\n",
    "band_freq_max=10500\n",
    "windowlength=512 # also equals to NFFT\n",
    "N_overlap=400 # Overlap length in STFT "
   ]
  },
  {
   "cell_type": "markdown",
   "metadata": {},
   "source": [
    "Extract randomly selected Negative Segments"
   ]
  },
  {
   "cell_type": "code",
   "execution_count": 6,
   "metadata": {},
   "outputs": [
    {
     "data": {
      "text/plain": [
       "'C:/Users/dgnhk_000/Downloads/ARSU 2017/20170330_Uhu/VP2_20170401/Negative_segments/'"
      ]
     },
     "execution_count": 6,
     "metadata": {},
     "output_type": "execute_result"
    }
   ],
   "source": [
    "base_folder='C:/Users/dgnhk_000/Downloads/ARSU 2017/20170330_Uhu/VP2_20170401/Negative_segments/'\n",
    "base_folder"
   ]
  },
  {
   "cell_type": "code",
   "execution_count": 7,
   "metadata": {},
   "outputs": [
    {
     "data": {
      "text/plain": [
       "(150,)"
      ]
     },
     "execution_count": 7,
     "metadata": {},
     "output_type": "execute_result"
    }
   ],
   "source": [
    "# generate random time instants for the beginnings of the segments\n",
    "# skip first 5 mins and last ~25 mins of the audio \n",
    "number_calls=150\n",
    "time_arr = np.random.randint(low = 300, high = 5400, size = number_calls) \n",
    "time_arr.shape"
   ]
  },
  {
   "cell_type": "code",
   "execution_count": 8,
   "metadata": {},
   "outputs": [],
   "source": [
    "ii=0\n",
    "while ii < number_calls:\n",
    "    t_begin=time_arr[ii]\n",
    "    index_begin=int(t_begin*rate)\n",
    "    # Take  2 seconds segments from audio\n",
    "    index_end=index_begin+2*rate;\n",
    "    segment=sig[index_begin:index_end]\n",
    "    filename=base_folder+'VP2_'+str(t_begin)+'.wav'\n",
    "    librosa.output.write_wav(filename,segment,22050)\n",
    "    ii+=1"
   ]
  }
 ],
 "metadata": {
  "kernelspec": {
   "display_name": "Python 3",
   "language": "python",
   "name": "python3"
  },
  "language_info": {
   "codemirror_mode": {
    "name": "ipython",
    "version": 3
   },
   "file_extension": ".py",
   "mimetype": "text/x-python",
   "name": "python",
   "nbconvert_exporter": "python",
   "pygments_lexer": "ipython3",
   "version": "3.8.10 (default, Jun 22 2022, 20:18:18) \n[GCC 9.4.0]"
  },
  "vscode": {
   "interpreter": {
    "hash": "916dbcbb3f70747c44a77c7bcd40155683ae19c65e1c03b4aa3499c5328201f1"
   }
  }
 },
 "nbformat": 4,
 "nbformat_minor": 2
}
