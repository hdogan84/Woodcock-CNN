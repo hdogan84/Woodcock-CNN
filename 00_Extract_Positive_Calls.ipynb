{
 "cells": [
  {
   "cell_type": "code",
   "execution_count": 11,
   "metadata": {},
   "outputs": [],
   "source": [
    "import librosa\n",
    "from skimage import feature\n",
    "import pandas as pd\n",
    "import numpy as np\n",
    "import matplotlib.pyplot as plt\n",
    "from scipy import signal\n",
    "import soundfile as sf"
   ]
  },
  {
   "cell_type": "code",
   "execution_count": 2,
   "metadata": {},
   "outputs": [],
   "source": [
    "#(temp_sig, rate) = librosa.load('Scolopax_rusticola_DIG0161_66.wav')\n",
    "(sig, rate) = librosa.load('Peenemuende_140525_327_4ch.wav', sr=22050, mono=True)\n",
    "#(orig_sig, orig_rate) = librosa.load('Scolopax_rusticola_DIG0110_07.wav',sr=None)\n",
    "#temp_sig=librosa.resample(orig_sig,orig_rate,22050)"
   ]
  },
  {
   "cell_type": "code",
   "execution_count": 3,
   "metadata": {},
   "outputs": [],
   "source": [
    "# FFT and Filtering parameters\n",
    "band_freq_min=3000\n",
    "band_freq_max=10500\n",
    "windowlength=512 # also equals to NFFT\n",
    "N_overlap=400 # Overlap length in STFT "
   ]
  },
  {
   "cell_type": "markdown",
   "metadata": {},
   "source": [
    "Extract Positive Calls - Abschnittlänge 2 Sekunden"
   ]
  },
  {
   "cell_type": "code",
   "execution_count": 6,
   "metadata": {},
   "outputs": [],
   "source": [
    "base_folder='C:/Users/dgnhk/Woodcock-CNN/'"
   ]
  },
  {
   "cell_type": "code",
   "execution_count": 16,
   "metadata": {},
   "outputs": [],
   "source": [
    "# need to get this from annotation file\n",
    "Begin_times=np.array([2615,2617,2620,3250])"
   ]
  },
  {
   "cell_type": "code",
   "execution_count": 17,
   "metadata": {},
   "outputs": [
    {
     "data": {
      "text/plain": [
       "3726.2160090702946"
      ]
     },
     "execution_count": 17,
     "metadata": {},
     "output_type": "execute_result"
    }
   ],
   "source": [
    "len(sig)/22050"
   ]
  },
  {
   "cell_type": "markdown",
   "metadata": {},
   "source": [
    "Verwend Bandpassfilter entsprechend dem Uhu-Ruf"
   ]
  },
  {
   "cell_type": "code",
   "execution_count": 18,
   "metadata": {},
   "outputs": [
    {
     "name": "stdout",
     "output_type": "stream",
     "text": [
      "44100\n",
      "44100\n",
      "44100\n",
      "44100\n"
     ]
    }
   ],
   "source": [
    "for t_begin in Begin_times:\n",
    "    index_begin=int(t_begin*rate)\n",
    "    # Take  segment length of 2 seconds\n",
    "    index_end=index_begin+2*rate;\n",
    "    segment=sig[index_begin:index_end]\n",
    "    #print(len(segment))\n",
    "    filename=base_folder+'VP2_'+str(int(t_begin))+'.wav'\n",
    "    filename = \"xxx\"+str(int(t_begin))+'.wav'\n",
    "    sf.write(filename, segment, 22050)\n",
    "    #librosa.output.write_wav(filename,segment,22050)"
   ]
  },
  {
   "cell_type": "code",
   "execution_count": null,
   "metadata": {},
   "outputs": [],
   "source": []
  }
 ],
 "metadata": {
  "kernelspec": {
   "display_name": "Python 3",
   "language": "python",
   "name": "python3"
  },
  "language_info": {
   "codemirror_mode": {
    "name": "ipython",
    "version": 3
   },
   "file_extension": ".py",
   "mimetype": "text/x-python",
   "name": "python",
   "nbconvert_exporter": "python",
   "pygments_lexer": "ipython3",
   "version": "3.9.16"
  },
  "vscode": {
   "interpreter": {
    "hash": "916dbcbb3f70747c44a77c7bcd40155683ae19c65e1c03b4aa3499c5328201f1"
   }
  }
 },
 "nbformat": 4,
 "nbformat_minor": 2
}
